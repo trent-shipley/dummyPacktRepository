{
 "cells": [
  {
   "cell_type": "code",
   "execution_count": 18,
   "metadata": {},
   "outputs": [],
   "source": [
    "def add_elements(a, b):\n",
    "    result = []\n",
    "    for item_a, item_b in zip(a, b):\n",
    "        result.append(item_a + item_b)\n",
    "    return result"
   ]
  },
  {
   "cell_type": "code",
   "execution_count": 19,
   "metadata": {},
   "outputs": [
    {
     "name": "stdout",
     "output_type": "stream",
     "text": [
      "['1,1,1\\n', '1,1,1\\n', '2,2,2\\n']\n"
     ]
    }
   ],
   "source": [
    "with open(\"input.txt\", 'r') as f:\n",
    "    lines = f.readlines()\n",
    "print(lines)\n",
    "last_line1, last_line2 = lines[-2], lines[-1]"
   ]
  },
  {
   "cell_type": "code",
   "execution_count": 20,
   "metadata": {},
   "outputs": [
    {
     "name": "stdout",
     "output_type": "stream",
     "text": [
      "1,1,1\n",
      "\n",
      "[1, 1, 1]\n",
      "2,2,2\n",
      "\n",
      "[2, 2, 2]\n"
     ]
    }
   ],
   "source": [
    "print(last_line1)\n",
    "list1 = list(map(int, last_line1[:-1].split(',')))\n",
    "print(list1)\n",
    "\n",
    "print(last_line2)\n",
    "list2 = list(map(int, last_line2[:-1].split(',')))\n",
    "print(list2)"
   ]
  },
  {
   "cell_type": "code",
   "execution_count": 21,
   "metadata": {},
   "outputs": [],
   "source": [
    "new_list = add_elements(list1, list2)\n",
    "with open(\"input.txt\", 'a') as f:\n",
    "    for i, item in enumerate(new_list):\n",
    "        f.write(str(item))\n",
    "        if i < len(new_list) - 1:\n",
    "            f.write(',')\n",
    "        else:\n",
    "            f.write('\\n')"
   ]
  }
 ],
 "metadata": {
  "kernelspec": {
   "display_name": "Python 3.9.12 ('base')",
   "language": "python",
   "name": "python3"
  },
  "language_info": {
   "codemirror_mode": {
    "name": "ipython",
    "version": 3
   },
   "file_extension": ".py",
   "mimetype": "text/x-python",
   "name": "python",
   "nbconvert_exporter": "python",
   "pygments_lexer": "ipython3",
   "version": "3.9.12"
  },
  "orig_nbformat": 4,
  "vscode": {
   "interpreter": {
    "hash": "ad2bdc8ecc057115af97d19610ffacc2b4e99fae6737bb82f5d7fb13d2f2c186"
   }
  }
 },
 "nbformat": 4,
 "nbformat_minor": 2
}
